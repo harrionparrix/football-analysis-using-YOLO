{
 "cells": [
  {
   "cell_type": "code",
   "execution_count": 19,
   "metadata": {},
   "outputs": [
    {
     "name": "stdout",
     "output_type": "stream",
     "text": [
      "loading Roboflow workspace...\n",
      "loading Roboflow project...\n"
     ]
    },
    {
     "name": "stderr",
     "output_type": "stream",
     "text": [
      "Downloading Dataset Version Zip in football-players-detection-1 to yolov5pytorch:: 100%|██████████| 148663/148663 [00:13<00:00, 11390.18it/s]"
     ]
    },
    {
     "name": "stdout",
     "output_type": "stream",
     "text": [
      "\n"
     ]
    },
    {
     "name": "stderr",
     "output_type": "stream",
     "text": [
      "\n",
      "Extracting Dataset Version Zip to football-players-detection-1 in yolov5pytorch:: 100%|██████████| 1338/1338 [00:00<00:00, 2153.54it/s]\n"
     ]
    }
   ],
   "source": [
    "from roboflow import Roboflow\n",
    "rf = Roboflow(api_key=\"unauthorized\")\n",
    "project = rf.workspace(\"roboflow-jvuqo\").project(\"football-players-detection-3zvbc\")\n",
    "version = project.version(1)\n",
    "dataset = version.download(\"yolov5\")\n"
   ]
  },
  {
   "cell_type": "code",
   "execution_count": 21,
   "metadata": {},
   "outputs": [
    {
     "data": {
      "text/plain": [
       "'d:\\\\Study\\\\Projects\\\\footy\\\\football-players-detection-1'"
      ]
     },
     "execution_count": 21,
     "metadata": {},
     "output_type": "execute_result"
    }
   ],
   "source": [
    "dataset.location"
   ]
  },
  {
   "cell_type": "code",
   "execution_count": 23,
   "metadata": {},
   "outputs": [
    {
     "name": "stdout",
     "output_type": "stream",
     "text": [
      "^C\n"
     ]
    },
    {
     "name": "stdout",
     "output_type": "stream",
     "text": [
      "Ultralytics YOLOv8.2.15 🚀 Python-3.11.9 torch-2.3.0+cu118 CPU (12th Gen Intel Core(TM) i5-12450H)\n",
      "\u001b[34m\u001b[1mengine\\trainer: \u001b[0mtask=detect, mode=train, model=yolov5xu.pt, data=d:\\Study\\Projects\\footy\\football-players-detection-1/data.yaml, epochs=100, time=None, patience=100, batch=16, imgsz=640, save=True, save_period=-1, cache=False, device=cpu, workers=8, project=None, name=train2, exist_ok=False, pretrained=True, optimizer=auto, verbose=True, seed=0, deterministic=True, single_cls=False, rect=False, cos_lr=False, close_mosaic=10, resume=False, amp=True, fraction=1.0, profile=False, freeze=None, multi_scale=False, overlap_mask=True, mask_ratio=4, dropout=0.0, val=True, split=val, save_json=False, save_hybrid=False, conf=None, iou=0.7, max_det=300, half=False, dnn=False, plots=True, source=None, vid_stride=1, stream_buffer=False, visualize=False, augment=False, agnostic_nms=False, classes=None, retina_masks=False, embed=None, show=False, save_frames=False, save_txt=False, save_conf=False, save_crop=False, show_labels=True, show_conf=True, show_boxes=True, line_width=None, format=torchscript, keras=False, optimize=False, int8=False, dynamic=False, simplify=False, opset=None, workspace=4, nms=False, lr0=0.01, lrf=0.01, momentum=0.937, weight_decay=0.0005, warmup_epochs=3.0, warmup_momentum=0.8, warmup_bias_lr=0.1, box=7.5, cls=0.5, dfl=1.5, pose=12.0, kobj=1.0, label_smoothing=0.0, nbs=64, hsv_h=0.015, hsv_s=0.7, hsv_v=0.4, degrees=0.0, translate=0.1, scale=0.5, shear=0.0, perspective=0.0, flipud=0.0, fliplr=0.5, bgr=0.0, mosaic=1.0, mixup=0.0, copy_paste=0.0, auto_augment=randaugment, erasing=0.4, crop_fraction=1.0, cfg=None, tracker=botsort.yaml, save_dir=runs\\detect\\train2\n",
      "Overriding model.yaml nc=80 with nc=4\n",
      "\n",
      "                   from  n    params  module                                       arguments                     \n",
      "  0                  -1  1      8800  ultralytics.nn.modules.conv.Conv             [3, 80, 6, 2, 2]              \n",
      "  1                  -1  1    115520  ultralytics.nn.modules.conv.Conv             [80, 160, 3, 2]               \n",
      "  2                  -1  4    309120  ultralytics.nn.modules.block.C3              [160, 160, 4]                 \n",
      "  3                  -1  1    461440  ultralytics.nn.modules.conv.Conv             [160, 320, 3, 2]              \n",
      "  4                  -1  8   2259200  ultralytics.nn.modules.block.C3              [320, 320, 8]                 \n",
      "  5                  -1  1   1844480  ultralytics.nn.modules.conv.Conv             [320, 640, 3, 2]              \n",
      "  6                  -1 12  13125120  ultralytics.nn.modules.block.C3              [640, 640, 12]                \n",
      "  7                  -1  1   7375360  ultralytics.nn.modules.conv.Conv             [640, 1280, 3, 2]             \n",
      "  8                  -1  4  19676160  ultralytics.nn.modules.block.C3              [1280, 1280, 4]               \n",
      "  9                  -1  1   4099840  ultralytics.nn.modules.block.SPPF            [1280, 1280, 5]               \n",
      " 10                  -1  1    820480  ultralytics.nn.modules.conv.Conv             [1280, 640, 1, 1]             \n",
      " 11                  -1  1         0  torch.nn.modules.upsampling.Upsample         [None, 2, 'nearest']          \n",
      " 12             [-1, 6]  1         0  ultralytics.nn.modules.conv.Concat           [1]                           \n",
      " 13                  -1  4   5332480  ultralytics.nn.modules.block.C3              [1280, 640, 4, False]         \n",
      " 14                  -1  1    205440  ultralytics.nn.modules.conv.Conv             [640, 320, 1, 1]              \n",
      " 15                  -1  1         0  torch.nn.modules.upsampling.Upsample         [None, 2, 'nearest']          \n",
      " 16             [-1, 4]  1         0  ultralytics.nn.modules.conv.Concat           [1]                           \n",
      " 17                  -1  4   1335040  ultralytics.nn.modules.block.C3              [640, 320, 4, False]          \n",
      " 18                  -1  1    922240  ultralytics.nn.modules.conv.Conv             [320, 320, 3, 2]              \n",
      " 19            [-1, 14]  1         0  ultralytics.nn.modules.conv.Concat           [1]                           \n",
      " 20                  -1  4   4922880  ultralytics.nn.modules.block.C3              [640, 640, 4, False]          \n",
      " 21                  -1  1   3687680  ultralytics.nn.modules.conv.Conv             [640, 640, 3, 2]              \n",
      " 22            [-1, 10]  1         0  ultralytics.nn.modules.conv.Concat           [1]                           \n",
      " 23                  -1  4  19676160  ultralytics.nn.modules.block.C3              [1280, 1280, 4, False]        \n",
      " 24        [17, 20, 23]  1  11025820  ultralytics.nn.modules.head.Detect           [4, [320, 640, 1280]]         \n",
      "YOLOv5x summary: 493 layers, 97203260 parameters, 97203244 gradients, 246.9 GFLOPs\n",
      "\n",
      "Transferred 817/823 items from pretrained weights\n",
      "Freezing layer 'model.24.dfl.conv.weight'\n",
      "\u001b[34m\u001b[1mtrain: \u001b[0mNew cache created: D:\\Study\\Projects\\footy\\football-players-detection-1\\football-players-detection-1\\train\\labels.cache\n",
      "\u001b[34m\u001b[1mval: \u001b[0mNew cache created: D:\\Study\\Projects\\footy\\football-players-detection-1\\football-players-detection-1\\valid\\labels.cache\n",
      "Plotting labels to runs\\detect\\train2\\labels.jpg... \n",
      "\u001b[34m\u001b[1moptimizer:\u001b[0m 'optimizer=auto' found, ignoring 'lr0=0.01' and 'momentum=0.937' and determining best 'optimizer', 'lr0' and 'momentum' automatically... \n",
      "\u001b[34m\u001b[1moptimizer:\u001b[0m AdamW(lr=0.00125, momentum=0.9) with parameter groups 135 weight(decay=0.0), 142 weight(decay=0.0005), 141 bias(decay=0.0)\n",
      "Image sizes 640 train, 640 val\n",
      "Using 0 dataloader workers\n",
      "Logging results to \u001b[1mruns\\detect\\train2\u001b[0m\n",
      "Starting training for 100 epochs...\n",
      "\n",
      "      Epoch    GPU_mem   box_loss   cls_loss   dfl_loss  Instances       Size\n"
     ]
    },
    {
     "name": "stderr",
     "output_type": "stream",
     "text": [
      "\n",
      "\u001b[34m\u001b[1mtrain: \u001b[0mScanning D:\\Study\\Projects\\footy\\football-players-detection-1\\football-players-detection-1\\train\\labels...:   0%|          | 0/612 [00:00<?, ?it/s]\n",
      "\u001b[34m\u001b[1mtrain: \u001b[0mScanning D:\\Study\\Projects\\footy\\football-players-detection-1\\football-players-detection-1\\train\\labels... 19 images, 0 backgrounds, 0 corrupt:   3%|▎         | 19/612 [00:00<00:03, 173.76it/s]\n",
      "\u001b[34m\u001b[1mtrain: \u001b[0mScanning D:\\Study\\Projects\\footy\\football-players-detection-1\\football-players-detection-1\\train\\labels... 74 images, 0 backgrounds, 0 corrupt:  12%|█▏        | 74/612 [00:00<00:01, 381.74it/s]\n",
      "\u001b[34m\u001b[1mtrain: \u001b[0mScanning D:\\Study\\Projects\\footy\\football-players-detection-1\\football-players-detection-1\\train\\labels... 124 images, 0 backgrounds, 0 corrupt:  20%|██        | 124/612 [00:00<00:01, 424.60it/s]\n",
      "\u001b[34m\u001b[1mtrain: \u001b[0mScanning D:\\Study\\Projects\\footy\\football-players-detection-1\\football-players-detection-1\\train\\labels... 176 images, 0 backgrounds, 0 corrupt:  29%|██▉       | 176/612 [00:00<00:00, 450.17it/s]\n",
      "\u001b[34m\u001b[1mtrain: \u001b[0mScanning D:\\Study\\Projects\\footy\\football-players-detection-1\\football-players-detection-1\\train\\labels... 224 images, 0 backgrounds, 0 corrupt:  37%|███▋      | 224/612 [00:00<00:00, 455.13it/s]\n",
      "\u001b[34m\u001b[1mtrain: \u001b[0mScanning D:\\Study\\Projects\\footy\\football-players-detection-1\\football-players-detection-1\\train\\labels... 270 images, 0 backgrounds, 0 corrupt:  44%|████▍     | 270/612 [00:00<00:00, 436.08it/s]\n",
      "\u001b[34m\u001b[1mtrain: \u001b[0mScanning D:\\Study\\Projects\\footy\\football-players-detection-1\\football-players-detection-1\\train\\labels... 316 images, 0 backgrounds, 0 corrupt:  52%|█████▏    | 316/612 [00:00<00:00, 440.34it/s]\n",
      "\u001b[34m\u001b[1mtrain: \u001b[0mScanning D:\\Study\\Projects\\footy\\football-players-detection-1\\football-players-detection-1\\train\\labels... 361 images, 0 backgrounds, 0 corrupt:  59%|█████▉    | 361/612 [00:00<00:00, 435.78it/s]\n",
      "\u001b[34m\u001b[1mtrain: \u001b[0mScanning D:\\Study\\Projects\\footy\\football-players-detection-1\\football-players-detection-1\\train\\labels... 415 images, 0 backgrounds, 0 corrupt:  68%|██████▊   | 415/612 [00:00<00:00, 463.85it/s]\n",
      "\u001b[34m\u001b[1mtrain: \u001b[0mScanning D:\\Study\\Projects\\footy\\football-players-detection-1\\football-players-detection-1\\train\\labels... 463 images, 0 backgrounds, 0 corrupt:  76%|███████▌  | 463/612 [00:01<00:00, 466.80it/s]\n",
      "\u001b[34m\u001b[1mtrain: \u001b[0mScanning D:\\Study\\Projects\\footy\\football-players-detection-1\\football-players-detection-1\\train\\labels... 516 images, 0 backgrounds, 0 corrupt:  84%|████████▍ | 516/612 [00:01<00:00, 480.67it/s]\n",
      "\u001b[34m\u001b[1mtrain: \u001b[0mScanning D:\\Study\\Projects\\footy\\football-players-detection-1\\football-players-detection-1\\train\\labels... 565 images, 0 backgrounds, 0 corrupt:  92%|█████████▏| 565/612 [00:01<00:00, 415.94it/s]\n",
      "\u001b[34m\u001b[1mtrain: \u001b[0mScanning D:\\Study\\Projects\\footy\\football-players-detection-1\\football-players-detection-1\\train\\labels... 610 images, 0 backgrounds, 0 corrupt: 100%|█████████▉| 610/612 [00:01<00:00, 423.26it/s]\n",
      "\u001b[34m\u001b[1mtrain: \u001b[0mScanning D:\\Study\\Projects\\footy\\football-players-detection-1\\football-players-detection-1\\train\\labels... 612 images, 0 backgrounds, 0 corrupt: 100%|██████████| 612/612 [00:01<00:00, 432.71it/s]\n",
      "\n",
      "\u001b[34m\u001b[1mval: \u001b[0mScanning D:\\Study\\Projects\\footy\\football-players-detection-1\\football-players-detection-1\\valid\\labels...:   0%|          | 0/38 [00:00<?, ?it/s]\n",
      "\u001b[34m\u001b[1mval: \u001b[0mScanning D:\\Study\\Projects\\footy\\football-players-detection-1\\football-players-detection-1\\valid\\labels... 26 images, 0 backgrounds, 0 corrupt:  68%|██████▊   | 26/38 [00:00<00:00, 244.62it/s]\n",
      "\u001b[34m\u001b[1mval: \u001b[0mScanning D:\\Study\\Projects\\footy\\football-players-detection-1\\football-players-detection-1\\valid\\labels... 38 images, 0 backgrounds, 0 corrupt: 100%|██████████| 38/38 [00:00<00:00, 326.44it/s]\n",
      "\n",
      "  0%|          | 0/39 [00:00<?, ?it/s]\n"
     ]
    }
   ],
   "source": [
    "!yolo task=detect mode=train model=yolov5xu.pt data={dataset.location}/data.yaml epochs=100 imgsz=640 device=cpu\n"
   ]
  },
  {
   "cell_type": "code",
   "execution_count": null,
   "metadata": {},
   "outputs": [],
   "source": []
  }
 ],
 "metadata": {
  "kernelspec": {
   "display_name": "footyvenv",
   "language": "python",
   "name": "python3"
  },
  "language_info": {
   "codemirror_mode": {
    "name": "ipython",
    "version": 3
   },
   "file_extension": ".py",
   "mimetype": "text/x-python",
   "name": "python",
   "nbconvert_exporter": "python",
   "pygments_lexer": "ipython3",
   "version": "3.11.9"
  }
 },
 "nbformat": 4,
 "nbformat_minor": 2
}
